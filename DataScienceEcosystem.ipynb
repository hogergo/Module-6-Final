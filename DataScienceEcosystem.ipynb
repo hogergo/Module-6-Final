{
 "cells": [
  {
   "cell_type": "markdown",
   "id": "129788a5-2353-4fde-b014-ea3f7662b237",
   "metadata": {},
   "source": [
    "# Data Science Tools and Ecosystem"
   ]
  },
  {
   "cell_type": "markdown",
   "id": "443c453b-76fb-49d7-8e32-3e32ff00ee02",
   "metadata": {},
   "source": [
    "In this notebook, Data Science Tools and Ecosystem are summarized."
   ]
  },
  {
   "cell_type": "markdown",
   "id": "f2410586-9eb2-41c5-b3b3-63d14e7650c0",
   "metadata": {
    "tags": []
   },
   "source": [
    "***Objectives:***\n",
    "- R\n",
    "- Julia\n",
    "- Python"
   ]
  },
  {
   "cell_type": "markdown",
   "id": "c600d84f-322f-456f-a1e5-1fd833b4933b",
   "metadata": {},
   "source": [
    "Some of the popular languages that Data Scientists use are:\n",
    "1. R\n",
    "2. Julia\n",
    "3. Python"
   ]
  },
  {
   "cell_type": "markdown",
   "id": "77811ab3-448c-40d5-9cbf-c26b13de7c21",
   "metadata": {},
   "source": [
    "Some of the commonly used libraries used by Data Scientists include:\n",
    "1. Sckit\n",
    "2. ggplot\n",
    "3. pandas"
   ]
  },
  {
   "cell_type": "markdown",
   "id": "2e017ea7-aa70-48c9-8550-c64b8a00c0e4",
   "metadata": {
    "tags": []
   },
   "source": [
    "|Data Science Tools|\n",
    "|-----|\n",
    "|RStudio|\n",
    "|JupterLab|\n",
    "|VS Code|"
   ]
  },
  {
   "cell_type": "markdown",
   "id": "d7b9ec79-ddf7-446f-9726-34c0e1044e2c",
   "metadata": {
    "tags": []
   },
   "source": [
    "### Below are a few examples of evaluating arithmetic expressions in Python"
   ]
  },
  {
   "cell_type": "code",
   "execution_count": 8,
   "id": "b3e546e1-5f7d-47b6-a359-a16bd309f4da",
   "metadata": {
    "tags": []
   },
   "outputs": [
    {
     "data": {
      "text/plain": [
       "17"
      ]
     },
     "execution_count": 8,
     "metadata": {},
     "output_type": "execute_result"
    }
   ],
   "source": [
    "# This a simple arithmetic expression to mutiply then add integers\n",
    "(3*4)+5\n"
   ]
  },
  {
   "cell_type": "code",
   "execution_count": 12,
   "id": "6f955f10-bb77-4264-8cf8-591e20877441",
   "metadata": {
    "tags": []
   },
   "outputs": [
    {
     "data": {
      "text/plain": [
       "3.3333333333333335"
      ]
     },
     "execution_count": 12,
     "metadata": {},
     "output_type": "execute_result"
    }
   ],
   "source": [
    "# This will convert 200 minutes to hours by diving by 60\n",
    "200/60\n"
   ]
  },
  {
   "cell_type": "markdown",
   "id": "d106424f-153d-4a29-b322-3c66c1e2d646",
   "metadata": {},
   "source": [
    "## Author\n",
    "Holler Gergely"
   ]
  },
  {
   "cell_type": "code",
   "execution_count": null,
   "id": "22727057-ad63-46f8-9340-683b44f602f5",
   "metadata": {},
   "outputs": [],
   "source": []
  }
 ],
 "metadata": {
  "kernelspec": {
   "display_name": "Python",
   "language": "python",
   "name": "conda-env-python-py"
  },
  "language_info": {
   "codemirror_mode": {
    "name": "ipython",
    "version": 3
   },
   "file_extension": ".py",
   "mimetype": "text/x-python",
   "name": "python",
   "nbconvert_exporter": "python",
   "pygments_lexer": "ipython3",
   "version": "3.7.12"
  }
 },
 "nbformat": 4,
 "nbformat_minor": 5
}
